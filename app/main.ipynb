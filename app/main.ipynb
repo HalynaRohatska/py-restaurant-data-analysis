{
 "cells": [
  {
   "cell_type": "code",
   "metadata": {
    "collapsed": true,
    "pycharm": {
     "name": "#%%\n"
    },
    "ExecuteTime": {
     "end_time": "2024-11-13T14:44:21.060583Z",
     "start_time": "2024-11-13T14:44:14.571804Z"
    }
   },
   "source": [
    "import pandas as pd\n",
    "import numpy as np\n",
    "import sqlite3\n",
    "import matplotlib.pyplot as plt"
   ],
   "outputs": [],
   "execution_count": 1
  },
  {
   "cell_type": "markdown",
   "source": [
    "# Task 0\n",
    "Data extraction: get the data from 3 tables & combine it into single `.csv` file.\n",
    "After that read this file using pandas to create Dataframe.\n",
    "So it will be all joined data in 1 dataframe. Quick check - should be 74818 rows in it."
   ],
   "metadata": {
    "collapsed": false,
    "pycharm": {
     "name": "#%% md\n"
    }
   }
  },
  {
   "cell_type": "code",
   "source": [
    "connection = sqlite3.connect(\"../db.sqlite3\")\n",
    "\n",
    "order = pd.read_sql(\"SELECT * FROM restaurant_order\", connection)\n",
    "order_item = pd.read_sql(\"SELECT * FROM restaurant_orderitem\", connection)\n",
    "product = pd.read_sql(\"SELECT * FROM restaurant_product\", connection)\n",
    "\n",
    "join_orders = order.merge(order_item, left_on=\"id\", right_on=\"order_id\", how=\"inner\")\n",
    "join_product = join_orders.merge(product, left_on=\"product_id\", right_on=\"id\", how=\"inner\")\n",
    "\n",
    "join_product.to_csv(\"restaurant.csv\", index=False)\n",
    "df = pd.read_csv(\"restaurant.csv\")\n",
    "df = df.drop(columns=[\"id_x\", \"id_y\", \"id\"])\n",
    "df.head(10)"
   ],
   "metadata": {
    "collapsed": false,
    "pycharm": {
     "name": "#%%\n"
    }
   },
   "outputs": [],
   "execution_count": null
  },
  {
   "cell_type": "markdown",
   "source": [
    "# Task 1\n",
    "Get Top 10 most popular products in restaurant sold by Quantity.\n",
    "Count how many times each product was sold and create a pie chart with percentage of popularity (by quantity) for top 10 of them.\n",
    "\n",
    "Example:\n",
    "\n",
    "![pie chart](../demo/pie.png)"
   ],
   "metadata": {
    "collapsed": false,
    "pycharm": {
     "name": "#%% md\n"
    }
   }
  },
  {
   "cell_type": "code",
   "source": [
    "dishes = df.nlargest(10, \"quantity\")\n",
    "dishes[\"percent\"] = round(dishes[\"quantity\"] / dishes[\"quantity\"].sum() * 100, 1)\n",
    "fig, ax = plt.subplots()\n",
    "ax.pie(dishes[\"percent\"], labels=dishes[\"name\"], autopct='%1.1f%%')\n",
    "ax.set_title(\"Top 10 position in menu by quantity\")"
   ],
   "metadata": {
    "collapsed": false,
    "pycharm": {
     "name": "#%%\n"
    }
   },
   "outputs": [],
   "execution_count": null
  },
  {
   "cell_type": "markdown",
   "source": [
    "# Task 2\n",
    "Calculate `Item Price` (Product Price * Quantity) for each Order Item in dataframe.\n",
    "And Make the same Top 10 pie chart, but this time by `Item Price`. So this chart should describe not the most popular products by quantity, but which products (top 10) make the most money for restaurant. It should be also with percentage."
   ],
   "metadata": {
    "collapsed": false,
    "pycharm": {
     "name": "#%% md\n"
    }
   }
  },
  {
   "cell_type": "code",
   "source": [
    "items = df[[\"quantity\", \"price\", \"name\"]].copy()\n",
    "items[\"total_price\"] = df[\"quantity\"] * df[\"price\"]\n",
    "items = items.nlargest(10, \"total_price\")\n",
    "fig, ax = plt.subplots()\n",
    "ax.pie(items[\"total_price\"], labels=items[\"name\"], autopct=\"%1.1f%%\")\n",
    "ax.set_title(\"Top 10 products\")"
   ],
   "metadata": {
    "collapsed": false,
    "pycharm": {
     "name": "#%%\n",
     "is_executing": true
    }
   },
   "outputs": [],
   "execution_count": null
  },
  {
   "cell_type": "markdown",
   "source": [
    "# Task 3\n",
    "Calculate `Order Hour` based on `Order Datetime`, which will tell about the specific our the order was created (from 0 to 23). Using `Order Hour` create a bar chart, which will tell the total restaurant income based on the hour order was created. So on x-axis - it will be values from 0 to 23 (hours), on y-axis - it will be the total sum of order prices, which were sold on that hour.\n",
    "\n",
    "Example:\n",
    "\n",
    "![bar chart](../demo/bar.png)"
   ],
   "metadata": {
    "collapsed": false,
    "pycharm": {
     "name": "#%% md\n"
    }
   }
  },
  {
   "cell_type": "code",
   "source": [
    "order_hour = df[[\"datetime\", \"order_id\", \"price\"]].copy()\n",
    "order_hour[\"datetime\"] = pd.to_datetime(order_hour[\"datetime\"])\n",
    "order_hour[\"order_time\"] = order_hour[\"datetime\"].dt.hour\n",
    "\n",
    "hour_income = order_hour.groupby(\"order_time\")[\"price\"].sum()\n",
    "\n",
    "plt.figure(figsize=(10, 6))\n",
    "hour_income.plot(kind='bar', color='skyblue')\n",
    "plt.title(\"Profit by order hour\")\n",
    "plt.xlabel(\"Order hour\")\n",
    "plt.ylabel(\"Total sum\")\n",
    "plt.xticks(rotation=0)\n",
    "plt.show()\n"
   ],
   "metadata": {
    "collapsed": false,
    "pycharm": {
     "name": "#%%\n"
    }
   },
   "outputs": [],
   "execution_count": null
  },
  {
   "cell_type": "markdown",
   "source": [
    "# Task 4\n",
    "Make similar bar chart, but right now with `Order Day Of The Week` (from Monday to Sunday), and also analyze total restaurant income by each day of the week."
   ],
   "metadata": {
    "collapsed": false,
    "pycharm": {
     "name": "#%% md\n"
    }
   }
  },
  {
   "cell_type": "code",
   "source": [
    "day_orders = df[[\"datetime\", \"order_id\", \"price\"]].copy()\n",
    "day_orders[\"datetime\"] = pd.to_datetime(day_orders[\"datetime\"])\n",
    "day_orders[\"week_day\"] = day_orders[\"datetime\"].dt.day_name()\n",
    "\n",
    "day_income = day_orders.groupby(\"week_day\")[\"price\"].sum()\n",
    "\n",
    "days_order = [\"Monday\", \"Tuesday\", \"Wednesday\", \"Thursday\", \"Friday\", \"Saturday\", \"Sunday\"]\n",
    "day_income = day_income.reindex(days_order)\n",
    "\n",
    "plt.figure(figsize=(10, 6))\n",
    "day_income.plot(kind='bar', color='skyblue')\n",
    "plt.title(\"Profit by week day\")\n",
    "plt.xlabel(\"Days\")\n",
    "plt.ylabel(\"Total sum\")\n",
    "plt.xticks(rotation=45)\n",
    "plt.show()"
   ],
   "metadata": {
    "collapsed": false,
    "pycharm": {
     "name": "#%%\n"
    }
   },
   "outputs": [],
   "execution_count": null
  }
 ],
 "metadata": {
  "kernelspec": {
   "display_name": "Python 3",
   "language": "python",
   "name": "python3"
  },
  "language_info": {
   "codemirror_mode": {
    "name": "ipython",
    "version": 2
   },
   "file_extension": ".py",
   "mimetype": "text/x-python",
   "name": "python",
   "nbconvert_exporter": "python",
   "pygments_lexer": "ipython2",
   "version": "2.7.6"
  }
 },
 "nbformat": 4,
 "nbformat_minor": 0
}
