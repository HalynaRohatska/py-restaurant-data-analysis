{
 "cells": [
  {
   "cell_type": "code",
   "metadata": {
    "collapsed": true,
    "pycharm": {
     "name": "#%%\n"
    },
    "ExecuteTime": {
     "end_time": "2024-11-15T12:16:59.121080Z",
     "start_time": "2024-11-15T12:16:37.879342Z"
    }
   },
   "source": [
    "import pandas as pd\n",
    "import numpy as np\n",
    "import sqlite3\n",
    "import matplotlib.pyplot as plt"
   ],
   "outputs": [],
   "execution_count": 2
  },
  {
   "cell_type": "markdown",
   "source": [
    "# Task 0\n",
    "Data extraction: get the data from 3 tables & combine it into single `.csv` file.\n",
    "After that read this file using pandas to create Dataframe.\n",
    "So it will be all joined data in 1 dataframe. Quick check - should be 74818 rows in it."
   ],
   "metadata": {
    "collapsed": false,
    "pycharm": {
     "name": "#%% md\n"
    }
   }
  },
  {
   "cell_type": "code",
   "source": [
    "connection = sqlite3.connect(\"../db.sqlite3\")\n",
    "\n",
    "query = \"\"\"\n",
    "SELECT *\n",
    "FROM restaurant_order AS o\n",
    "JOIN restaurant_orderitem AS oi ON o.id = oi.order_id\n",
    "JOIN restaurant_product AS p ON oi.product_id = p.id\n",
    "\"\"\"\n",
    "\n",
    "df = pd.read_sql(query, connection)\n",
    "connection.close()\n",
    "\n",
    "df = df.drop(columns=[\"id\", \"id\", \"id\"])\n",
    "df.head(10)"
   ],
   "metadata": {
    "collapsed": false,
    "pycharm": {
     "name": "#%%\n"
    },
    "ExecuteTime": {
     "end_time": "2024-11-15T12:18:33.460196Z",
     "start_time": "2024-11-15T12:18:28.937814Z"
    }
   },
   "outputs": [
    {
     "data": {
      "text/plain": [
       "              datetime  quantity  order_id  product_id  price  \\\n",
       "0  2019-08-03 20:25:00         2         1           6   0.80   \n",
       "1  2019-08-03 20:25:00         1         1         240  12.95   \n",
       "2  2019-08-03 20:25:00         1         1          19   2.95   \n",
       "3  2019-08-03 20:25:00         1         1          36   3.95   \n",
       "4  2019-08-03 20:25:00         1         1         111   8.95   \n",
       "5  2019-08-03 20:25:00         1         1           3   0.50   \n",
       "6  2019-08-03 20:17:00         1         2          11   2.60   \n",
       "7  2019-08-03 20:17:00         1         2          36   3.95   \n",
       "8  2019-08-03 20:17:00         1         2          55   4.95   \n",
       "9  2019-08-03 20:17:00         1         2          98   7.95   \n",
       "\n",
       "                     name  \n",
       "0           Plain Papadum  \n",
       "1        King Prawn Balti  \n",
       "2             Garlic Naan  \n",
       "3           Mushroom Rice  \n",
       "4     Paneer Tikka Masala  \n",
       "5           Mango Chutney  \n",
       "6              Plain Naan  \n",
       "7           Mushroom Rice  \n",
       "8  Tandoori Chicken (1/4)  \n",
       "9         Vindaloo - Lamb  "
      ],
      "text/html": [
       "<div>\n",
       "<style scoped>\n",
       "    .dataframe tbody tr th:only-of-type {\n",
       "        vertical-align: middle;\n",
       "    }\n",
       "\n",
       "    .dataframe tbody tr th {\n",
       "        vertical-align: top;\n",
       "    }\n",
       "\n",
       "    .dataframe thead th {\n",
       "        text-align: right;\n",
       "    }\n",
       "</style>\n",
       "<table border=\"1\" class=\"dataframe\">\n",
       "  <thead>\n",
       "    <tr style=\"text-align: right;\">\n",
       "      <th></th>\n",
       "      <th>datetime</th>\n",
       "      <th>quantity</th>\n",
       "      <th>order_id</th>\n",
       "      <th>product_id</th>\n",
       "      <th>price</th>\n",
       "      <th>name</th>\n",
       "    </tr>\n",
       "  </thead>\n",
       "  <tbody>\n",
       "    <tr>\n",
       "      <th>0</th>\n",
       "      <td>2019-08-03 20:25:00</td>\n",
       "      <td>2</td>\n",
       "      <td>1</td>\n",
       "      <td>6</td>\n",
       "      <td>0.80</td>\n",
       "      <td>Plain Papadum</td>\n",
       "    </tr>\n",
       "    <tr>\n",
       "      <th>1</th>\n",
       "      <td>2019-08-03 20:25:00</td>\n",
       "      <td>1</td>\n",
       "      <td>1</td>\n",
       "      <td>240</td>\n",
       "      <td>12.95</td>\n",
       "      <td>King Prawn Balti</td>\n",
       "    </tr>\n",
       "    <tr>\n",
       "      <th>2</th>\n",
       "      <td>2019-08-03 20:25:00</td>\n",
       "      <td>1</td>\n",
       "      <td>1</td>\n",
       "      <td>19</td>\n",
       "      <td>2.95</td>\n",
       "      <td>Garlic Naan</td>\n",
       "    </tr>\n",
       "    <tr>\n",
       "      <th>3</th>\n",
       "      <td>2019-08-03 20:25:00</td>\n",
       "      <td>1</td>\n",
       "      <td>1</td>\n",
       "      <td>36</td>\n",
       "      <td>3.95</td>\n",
       "      <td>Mushroom Rice</td>\n",
       "    </tr>\n",
       "    <tr>\n",
       "      <th>4</th>\n",
       "      <td>2019-08-03 20:25:00</td>\n",
       "      <td>1</td>\n",
       "      <td>1</td>\n",
       "      <td>111</td>\n",
       "      <td>8.95</td>\n",
       "      <td>Paneer Tikka Masala</td>\n",
       "    </tr>\n",
       "    <tr>\n",
       "      <th>5</th>\n",
       "      <td>2019-08-03 20:25:00</td>\n",
       "      <td>1</td>\n",
       "      <td>1</td>\n",
       "      <td>3</td>\n",
       "      <td>0.50</td>\n",
       "      <td>Mango Chutney</td>\n",
       "    </tr>\n",
       "    <tr>\n",
       "      <th>6</th>\n",
       "      <td>2019-08-03 20:17:00</td>\n",
       "      <td>1</td>\n",
       "      <td>2</td>\n",
       "      <td>11</td>\n",
       "      <td>2.60</td>\n",
       "      <td>Plain Naan</td>\n",
       "    </tr>\n",
       "    <tr>\n",
       "      <th>7</th>\n",
       "      <td>2019-08-03 20:17:00</td>\n",
       "      <td>1</td>\n",
       "      <td>2</td>\n",
       "      <td>36</td>\n",
       "      <td>3.95</td>\n",
       "      <td>Mushroom Rice</td>\n",
       "    </tr>\n",
       "    <tr>\n",
       "      <th>8</th>\n",
       "      <td>2019-08-03 20:17:00</td>\n",
       "      <td>1</td>\n",
       "      <td>2</td>\n",
       "      <td>55</td>\n",
       "      <td>4.95</td>\n",
       "      <td>Tandoori Chicken (1/4)</td>\n",
       "    </tr>\n",
       "    <tr>\n",
       "      <th>9</th>\n",
       "      <td>2019-08-03 20:17:00</td>\n",
       "      <td>1</td>\n",
       "      <td>2</td>\n",
       "      <td>98</td>\n",
       "      <td>7.95</td>\n",
       "      <td>Vindaloo - Lamb</td>\n",
       "    </tr>\n",
       "  </tbody>\n",
       "</table>\n",
       "</div>"
      ]
     },
     "execution_count": 4,
     "metadata": {},
     "output_type": "execute_result"
    }
   ],
   "execution_count": 4
  },
  {
   "cell_type": "markdown",
   "source": [
    "# Task 1\n",
    "Get Top 10 most popular products in restaurant sold by Quantity.\n",
    "Count how many times each product was sold and create a pie chart with percentage of popularity (by quantity) for top 10 of them.\n",
    "\n",
    "Example:\n",
    "\n",
    "![pie chart](../demo/pie.png)"
   ],
   "metadata": {
    "collapsed": false,
    "pycharm": {
     "name": "#%% md\n"
    }
   }
  },
  {
   "cell_type": "code",
   "source": [
    "dishes = df.nlargest(10, \"quantity\")\n",
    "dishes[\"percent\"] = round(dishes[\"quantity\"] / dishes[\"quantity\"].sum() * 100, 1)\n",
    "fig, ax = plt.subplots()\n",
    "ax.pie(dishes[\"percent\"], labels=dishes[\"name\"], autopct='%1.1f%%')\n",
    "ax.set_title(\"Top 10 position in menu by quantity\")"
   ],
   "metadata": {
    "collapsed": false,
    "pycharm": {
     "name": "#%%\n"
    }
   },
   "outputs": [],
   "execution_count": null
  },
  {
   "cell_type": "markdown",
   "source": [
    "# Task 2\n",
    "Calculate `Item Price` (Product Price * Quantity) for each Order Item in dataframe.\n",
    "And Make the same Top 10 pie chart, but this time by `Item Price`. So this chart should describe not the most popular products by quantity, but which products (top 10) make the most money for restaurant. It should be also with percentage."
   ],
   "metadata": {
    "collapsed": false,
    "pycharm": {
     "name": "#%% md\n"
    }
   }
  },
  {
   "cell_type": "code",
   "source": [
    "items = df[[\"quantity\", \"price\", \"name\"]].copy()\n",
    "items[\"total_price\"] = df[\"quantity\"] * df[\"price\"]\n",
    "items = items.nlargest(10, \"total_price\")\n",
    "fig, ax = plt.subplots()\n",
    "ax.pie(items[\"total_price\"], labels=items[\"name\"], autopct=\"%1.1f%%\")\n",
    "ax.set_title(\"Top 10 products\")"
   ],
   "metadata": {
    "collapsed": false,
    "pycharm": {
     "name": "#%%\n",
     "is_executing": true
    }
   },
   "outputs": [],
   "execution_count": null
  },
  {
   "cell_type": "markdown",
   "source": [
    "# Task 3\n",
    "Calculate `Order Hour` based on `Order Datetime`, which will tell about the specific our the order was created (from 0 to 23). Using `Order Hour` create a bar chart, which will tell the total restaurant income based on the hour order was created. So on x-axis - it will be values from 0 to 23 (hours), on y-axis - it will be the total sum of order prices, which were sold on that hour.\n",
    "\n",
    "Example:\n",
    "\n",
    "![bar chart](../demo/bar.png)"
   ],
   "metadata": {
    "collapsed": false,
    "pycharm": {
     "name": "#%% md\n"
    }
   }
  },
  {
   "cell_type": "code",
   "source": [
    "order_hour = df[[\"datetime\", \"order_id\", \"price\"]].copy()\n",
    "order_hour[\"datetime\"] = pd.to_datetime(order_hour[\"datetime\"])\n",
    "order_hour[\"order_time\"] = order_hour[\"datetime\"].dt.hour\n",
    "\n",
    "hour_income = order_hour.groupby(\"order_time\")[\"price\"].sum()\n",
    "\n",
    "plt.figure(figsize=(10, 6))\n",
    "hour_income.plot(kind='bar', color='skyblue')\n",
    "plt.title(\"Profit by order hour\")\n",
    "plt.xlabel(\"Order hour\")\n",
    "plt.ylabel(\"Total sum\")\n",
    "plt.xticks(rotation=0)\n",
    "plt.show()\n"
   ],
   "metadata": {
    "collapsed": false,
    "pycharm": {
     "name": "#%%\n"
    }
   },
   "outputs": [],
   "execution_count": null
  },
  {
   "cell_type": "markdown",
   "source": [
    "# Task 4\n",
    "Make similar bar chart, but right now with `Order Day Of The Week` (from Monday to Sunday), and also analyze total restaurant income by each day of the week."
   ],
   "metadata": {
    "collapsed": false,
    "pycharm": {
     "name": "#%% md\n"
    }
   }
  },
  {
   "cell_type": "code",
   "source": [
    "day_orders = df[[\"datetime\", \"order_id\", \"price\"]].copy()\n",
    "day_orders[\"datetime\"] = pd.to_datetime(day_orders[\"datetime\"])\n",
    "day_orders[\"week_day\"] = day_orders[\"datetime\"].dt.day_name()\n",
    "\n",
    "day_income = day_orders.groupby(\"week_day\")[\"price\"].sum()\n",
    "\n",
    "days_order = [\"Monday\", \"Tuesday\", \"Wednesday\", \"Thursday\", \"Friday\", \"Saturday\", \"Sunday\"]\n",
    "day_income = day_income.reindex(days_order)\n",
    "\n",
    "plt.figure(figsize=(10, 6))\n",
    "day_income.plot(kind='bar', color='skyblue')\n",
    "plt.title(\"Profit by week day\")\n",
    "plt.xlabel(\"Days\")\n",
    "plt.ylabel(\"Total sum\")\n",
    "plt.xticks(rotation=45)\n",
    "plt.show()"
   ],
   "metadata": {
    "collapsed": false,
    "pycharm": {
     "name": "#%%\n"
    }
   },
   "outputs": [],
   "execution_count": null
  }
 ],
 "metadata": {
  "kernelspec": {
   "display_name": "Python 3",
   "language": "python",
   "name": "python3"
  },
  "language_info": {
   "codemirror_mode": {
    "name": "ipython",
    "version": 2
   },
   "file_extension": ".py",
   "mimetype": "text/x-python",
   "name": "python",
   "nbconvert_exporter": "python",
   "pygments_lexer": "ipython2",
   "version": "2.7.6"
  }
 },
 "nbformat": 4,
 "nbformat_minor": 0
}
